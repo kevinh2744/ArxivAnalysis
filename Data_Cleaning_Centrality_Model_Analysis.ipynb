{
  "nbformat": 4,
  "nbformat_minor": 0,
  "metadata": {
    "colab": {
      "provenance": [],
      "include_colab_link": true
    },
    "kernelspec": {
      "name": "python3",
      "display_name": "Python 3"
    },
    "language_info": {
      "name": "python"
    }
  },
  "cells": [
    {
      "cell_type": "markdown",
      "metadata": {
        "id": "view-in-github",
        "colab_type": "text"
      },
      "source": [
        "<a href=\"https://colab.research.google.com/github/kevinh2744/ArxivAnalysis/blob/main/Data_Cleaning_Centrality_Model_Analysis.ipynb\" target=\"_parent\"><img src=\"https://colab.research.google.com/assets/colab-badge.svg\" alt=\"Open In Colab\"/></a>"
      ]
    },
    {
      "cell_type": "markdown",
      "source": [
        "# CIS 5450 Final Project\n",
        "## Albi Domi, Kevin Hu, Rohan Rashid"
      ],
      "metadata": {
        "id": "jxdAc4kfV8Ch"
      }
    },
    {
      "cell_type": "markdown",
      "source": [
        "## Imports"
      ],
      "metadata": {
        "id": "FOWv0yM_V3XF"
      }
    },
    {
      "cell_type": "code",
      "execution_count": null,
      "metadata": {
        "id": "goSkCaoJ_Y1j"
      },
      "outputs": [],
      "source": [
        "import json\n",
        "import pandas as pd\n",
        "import re\n",
        "import math\n",
        "import matplotlib.pyplot as plt\n",
        "import seaborn as sns\n",
        "from google.colab import drive\n",
        "from itertools import combinations\n",
        "import networkx as nx"
      ]
    },
    {
      "cell_type": "code",
      "source": [
        "drive.mount('/content/drive', force_remount=True)"
      ],
      "metadata": {
        "colab": {
          "base_uri": "https://localhost:8080/"
        },
        "id": "5AWVq02RA1aM",
        "outputId": "e683bd1b-8fce-4ded-c454-992a5fbad531"
      },
      "execution_count": null,
      "outputs": [
        {
          "output_type": "stream",
          "name": "stdout",
          "text": [
            "Mounted at /content/drive\n"
          ]
        }
      ]
    },
    {
      "cell_type": "code",
      "source": [
        "!pip install kaggle"
      ],
      "metadata": {
        "colab": {
          "base_uri": "https://localhost:8080/"
        },
        "id": "uBLRoIfQBq2l",
        "outputId": "9c8187a0-5d0d-4993-95a2-58727dbeca09"
      },
      "execution_count": null,
      "outputs": [
        {
          "output_type": "stream",
          "name": "stdout",
          "text": [
            "Looking in indexes: https://pypi.org/simple, https://us-python.pkg.dev/colab-wheels/public/simple/\n",
            "Requirement already satisfied: kaggle in /usr/local/lib/python3.8/dist-packages (1.5.12)\n",
            "Requirement already satisfied: python-slugify in /usr/local/lib/python3.8/dist-packages (from kaggle) (7.0.0)\n",
            "Requirement already satisfied: python-dateutil in /usr/local/lib/python3.8/dist-packages (from kaggle) (2.8.2)\n",
            "Requirement already satisfied: urllib3 in /usr/local/lib/python3.8/dist-packages (from kaggle) (1.24.3)\n",
            "Requirement already satisfied: six>=1.10 in /usr/local/lib/python3.8/dist-packages (from kaggle) (1.15.0)\n",
            "Requirement already satisfied: certifi in /usr/local/lib/python3.8/dist-packages (from kaggle) (2022.9.24)\n",
            "Requirement already satisfied: requests in /usr/local/lib/python3.8/dist-packages (from kaggle) (2.23.0)\n",
            "Requirement already satisfied: tqdm in /usr/local/lib/python3.8/dist-packages (from kaggle) (4.64.1)\n",
            "Requirement already satisfied: text-unidecode>=1.3 in /usr/local/lib/python3.8/dist-packages (from python-slugify->kaggle) (1.3)\n",
            "Requirement already satisfied: idna<3,>=2.5 in /usr/local/lib/python3.8/dist-packages (from requests->kaggle) (2.10)\n",
            "Requirement already satisfied: chardet<4,>=3.0.2 in /usr/local/lib/python3.8/dist-packages (from requests->kaggle) (3.0.4)\n"
          ]
        }
      ]
    },
    {
      "cell_type": "code",
      "source": [
        "!mkdir ~/.kaggle"
      ],
      "metadata": {
        "id": "P_wZ1ga6BxaH"
      },
      "execution_count": null,
      "outputs": []
    },
    {
      "cell_type": "code",
      "source": [
        "!cp /content/drive/MyDrive/kaggle.json ~/.kaggle/"
      ],
      "metadata": {
        "id": "sXMVjVB_B5te"
      },
      "execution_count": null,
      "outputs": []
    },
    {
      "cell_type": "code",
      "source": [
        "!!kaggle datasets download -d Cornell-University/arxiv"
      ],
      "metadata": {
        "id": "VHYC3rUSCGOX",
        "colab": {
          "base_uri": "https://localhost:8080/"
        },
        "outputId": "e55c918e-f6fd-4a22-951b-0fd32050eb90"
      },
      "execution_count": null,
      "outputs": [
        {
          "output_type": "execute_result",
          "data": {
            "text/plain": [
              "['Downloading arxiv.zip to /content',\n",
              " '',\n",
              " '  0% 0.00/1.10G [00:00<?, ?B/s]',\n",
              " '  1% 9.00M/1.10G [00:00<00:12, 92.0MB/s]',\n",
              " '  2% 21.0M/1.10G [00:00<00:10, 111MB/s] ',\n",
              " '  3% 32.0M/1.10G [00:00<00:11, 103MB/s]',\n",
              " '  4% 42.0M/1.10G [00:00<00:20, 55.7MB/s]',\n",
              " '  5% 52.0M/1.10G [00:00<00:17, 66.1MB/s]',\n",
              " '  6% 68.0M/1.10G [00:00<00:12, 89.4MB/s]',\n",
              " '  7% 79.0M/1.10G [00:01<00:14, 74.8MB/s]',\n",
              " '  8% 92.0M/1.10G [00:01<00:12, 88.2MB/s]',\n",
              " ' 10% 112M/1.10G [00:01<00:09, 113MB/s]  ',\n",
              " ' 11% 125M/1.10G [00:01<00:10, 104MB/s]',\n",
              " ' 12% 137M/1.10G [00:01<00:09, 108MB/s]',\n",
              " ' 13% 149M/1.10G [00:01<00:11, 92.5MB/s]',\n",
              " ' 14% 161M/1.10G [00:01<00:11, 90.2MB/s]',\n",
              " ' 16% 177M/1.10G [00:01<00:09, 106MB/s] ',\n",
              " ' 17% 189M/1.10G [00:02<00:09, 109MB/s]',\n",
              " ' 18% 201M/1.10G [00:02<00:14, 68.7MB/s]',\n",
              " ' 19% 210M/1.10G [00:02<00:13, 71.8MB/s]',\n",
              " ' 19% 219M/1.10G [00:02<00:12, 76.2MB/s]',\n",
              " ' 20% 228M/1.10G [00:02<00:13, 72.6MB/s]',\n",
              " ' 21% 243M/1.10G [00:02<00:10, 87.5MB/s]',\n",
              " ' 23% 265M/1.10G [00:03<00:07, 118MB/s] ',\n",
              " ' 25% 280M/1.10G [00:03<00:06, 127MB/s]',\n",
              " ' 26% 296M/1.10G [00:03<00:06, 134MB/s]',\n",
              " ' 27% 310M/1.10G [00:03<00:08, 102MB/s]',\n",
              " ' 29% 325M/1.10G [00:03<00:08, 104MB/s]',\n",
              " ' 30% 336M/1.10G [00:03<00:09, 90.2MB/s]',\n",
              " ' 31% 346M/1.10G [00:03<00:09, 85.7MB/s]',\n",
              " ' 32% 357M/1.10G [00:04<00:08, 90.9MB/s]',\n",
              " ' 32% 367M/1.10G [00:04<00:08, 91.7MB/s]',\n",
              " ' 34% 386M/1.10G [00:04<00:06, 118MB/s] ',\n",
              " ' 35% 399M/1.10G [00:04<00:08, 86.3MB/s]',\n",
              " ' 36% 409M/1.10G [00:04<00:08, 89.1MB/s]',\n",
              " ' 38% 425M/1.10G [00:04<00:06, 107MB/s] ',\n",
              " ' 39% 437M/1.10G [00:04<00:07, 96.6MB/s]',\n",
              " ' 40% 448M/1.10G [00:05<00:07, 100MB/s] ',\n",
              " ' 41% 459M/1.10G [00:05<00:07, 98.9MB/s]',\n",
              " ' 42% 472M/1.10G [00:05<00:06, 106MB/s] ',\n",
              " ' 43% 483M/1.10G [00:05<00:07, 91.1MB/s]',\n",
              " ' 44% 493M/1.10G [00:05<00:07, 85.4MB/s]',\n",
              " ' 44% 502M/1.10G [00:05<00:10, 65.3MB/s]',\n",
              " ' 45% 514M/1.10G [00:05<00:08, 76.8MB/s]',\n",
              " ' 46% 523M/1.10G [00:06<00:08, 78.4MB/s]',\n",
              " ' 47% 534M/1.10G [00:06<00:07, 84.4MB/s]',\n",
              " ' 48% 545M/1.10G [00:06<00:08, 68.5MB/s]',\n",
              " ' 49% 553M/1.10G [00:06<00:09, 64.3MB/s]',\n",
              " ' 50% 560M/1.10G [00:06<00:09, 64.6MB/s]',\n",
              " ' 50% 569M/1.10G [00:06<00:08, 70.2MB/s]',\n",
              " ' 51% 578M/1.10G [00:06<00:08, 72.3MB/s]',\n",
              " ' 52% 589M/1.10G [00:07<00:07, 75.7MB/s]',\n",
              " ' 53% 597M/1.10G [00:07<00:07, 76.4MB/s]',\n",
              " ' 54% 609M/1.10G [00:07<00:06, 80.7MB/s]',\n",
              " ' 55% 617M/1.10G [00:07<00:07, 76.9MB/s]',\n",
              " ' 55% 625M/1.10G [00:07<00:06, 76.1MB/s]',\n",
              " ' 56% 633M/1.10G [00:07<00:07, 67.4MB/s]',\n",
              " ' 57% 640M/1.10G [00:07<00:07, 65.7MB/s]',\n",
              " ' 58% 651M/1.10G [00:07<00:06, 74.3MB/s]',\n",
              " ' 58% 660M/1.10G [00:08<00:06, 77.3MB/s]',\n",
              " ' 59% 671M/1.10G [00:08<00:05, 86.8MB/s]',\n",
              " ' 60% 680M/1.10G [00:08<00:07, 63.9MB/s]',\n",
              " ' 61% 688M/1.10G [00:08<00:06, 66.5MB/s]',\n",
              " ' 62% 699M/1.10G [00:08<00:06, 74.8MB/s]',\n",
              " ' 63% 707M/1.10G [00:08<00:06, 72.8MB/s]',\n",
              " ' 63% 715M/1.10G [00:08<00:05, 72.7MB/s]',\n",
              " ' 64% 723M/1.10G [00:08<00:06, 68.1MB/s]',\n",
              " ' 65% 730M/1.10G [00:09<00:06, 65.9MB/s]',\n",
              " ' 66% 741M/1.10G [00:09<00:05, 77.9MB/s]',\n",
              " ' 66% 751M/1.10G [00:09<00:05, 78.2MB/s]',\n",
              " ' 67% 759M/1.10G [00:09<00:08, 48.6MB/s]',\n",
              " ' 68% 766M/1.10G [00:09<00:07, 50.5MB/s]',\n",
              " ' 68% 772M/1.10G [00:09<00:07, 47.8MB/s]',\n",
              " ' 69% 778M/1.10G [00:10<00:08, 42.8MB/s]',\n",
              " ' 69% 783M/1.10G [00:10<00:08, 44.4MB/s]',\n",
              " ' 70% 791M/1.10G [00:10<00:06, 51.8MB/s]',\n",
              " ' 71% 800M/1.10G [00:10<00:05, 60.6MB/s]',\n",
              " ' 71% 807M/1.10G [00:10<00:05, 63.5MB/s]',\n",
              " ' 72% 817M/1.10G [00:10<00:04, 72.0MB/s]',\n",
              " ' 73% 826M/1.10G [00:10<00:04, 77.4MB/s]',\n",
              " ' 74% 834M/1.10G [00:10<00:04, 75.1MB/s]',\n",
              " ' 74% 842M/1.10G [00:11<00:05, 52.6MB/s]',\n",
              " ' 75% 849M/1.10G [00:11<00:05, 54.4MB/s]',\n",
              " ' 76% 858M/1.10G [00:11<00:04, 58.5MB/s]',\n",
              " ' 77% 865M/1.10G [00:11<00:05, 52.0MB/s]',\n",
              " ' 78% 878M/1.10G [00:11<00:03, 69.5MB/s]',\n",
              " ' 79% 888M/1.10G [00:11<00:03, 72.2MB/s]',\n",
              " ' 79% 896M/1.10G [00:12<00:03, 67.2MB/s]',\n",
              " ' 80% 903M/1.10G [00:12<00:06, 36.2MB/s]',\n",
              " ' 80% 909M/1.10G [00:12<00:06, 34.6MB/s]',\n",
              " ' 81% 915M/1.10G [00:12<00:05, 38.7MB/s]',\n",
              " ' 81% 921M/1.10G [00:12<00:05, 41.5MB/s]',\n",
              " ' 82% 927M/1.10G [00:13<00:04, 45.3MB/s]',\n",
              " ' 83% 933M/1.10G [00:13<00:04, 42.1MB/s]',\n",
              " ' 83% 938M/1.10G [00:13<00:05, 38.6MB/s]',\n",
              " ' 83% 943M/1.10G [00:13<00:05, 37.2MB/s]',\n",
              " ' 84% 951M/1.10G [00:13<00:04, 45.9MB/s]',\n",
              " ' 85% 964M/1.10G [00:13<00:02, 65.3MB/s]',\n",
              " ' 86% 972M/1.10G [00:13<00:02, 61.6MB/s]',\n",
              " ' 87% 979M/1.10G [00:14<00:03, 50.4MB/s]',\n",
              " ' 87% 985M/1.10G [00:14<00:03, 44.4MB/s]',\n",
              " ' 88% 990M/1.10G [00:14<00:03, 37.0MB/s]',\n",
              " ' 88% 995M/1.10G [00:14<00:04, 31.4MB/s]',\n",
              " ' 88% 999M/1.10G [00:14<00:04, 31.6MB/s]',\n",
              " ' 89% 0.98G/1.10G [00:15<00:03, 36.0MB/s]',\n",
              " ' 89% 0.99G/1.10G [00:15<00:03, 35.8MB/s]',\n",
              " ' 90% 0.99G/1.10G [00:15<00:03, 33.7MB/s]',\n",
              " ' 91% 1.00G/1.10G [00:15<00:02, 50.0MB/s]',\n",
              " ' 91% 1.01G/1.10G [00:15<00:02, 50.8MB/s]',\n",
              " ' 92% 1.02G/1.10G [00:15<00:01, 56.6MB/s]',\n",
              " ' 93% 1.02G/1.10G [00:15<00:01, 52.6MB/s]',\n",
              " ' 94% 1.03G/1.10G [00:16<00:01, 58.9MB/s]',\n",
              " ' 94% 1.04G/1.10G [00:16<00:01, 66.7MB/s]',\n",
              " ' 95% 1.05G/1.10G [00:16<00:00, 62.2MB/s]',\n",
              " ' 96% 1.06G/1.10G [00:16<00:00, 85.3MB/s]',\n",
              " ' 97% 1.07G/1.10G [00:16<00:00, 62.2MB/s]',\n",
              " ' 98% 1.08G/1.10G [00:16<00:00, 56.6MB/s]',\n",
              " ' 98% 1.09G/1.10G [00:16<00:00, 53.4MB/s]',\n",
              " ' 99% 1.09G/1.10G [00:17<00:00, 55.3MB/s]',\n",
              " '100% 1.10G/1.10G [00:17<00:00, 61.7MB/s]',\n",
              " '',\n",
              " '100% 1.10G/1.10G [00:17<00:00, 68.5MB/s]']"
            ]
          },
          "metadata": {},
          "execution_count": 6
        }
      ]
    },
    {
      "cell_type": "code",
      "source": [
        "!unzip /content/arxiv.zip"
      ],
      "metadata": {
        "colab": {
          "base_uri": "https://localhost:8080/"
        },
        "id": "bvWn8ELuCafo",
        "outputId": "787005a0-f310-49eb-c5b7-3c4ad8fb1c6d"
      },
      "execution_count": null,
      "outputs": [
        {
          "output_type": "stream",
          "name": "stdout",
          "text": [
            "Archive:  /content/arxiv.zip\n",
            "  inflating: arxiv-metadata-oai-snapshot.json  \n"
          ]
        }
      ]
    },
    {
      "cell_type": "markdown",
      "source": [
        "## Loading the Data"
      ],
      "metadata": {
        "id": "SP_HJ3RDWJ9W"
      }
    },
    {
      "cell_type": "code",
      "source": [
        "filepath = '/content/arxiv-metadata-oai-snapshot.json'\n",
        "\n",
        "def get_metadata():\n",
        "    with open(filepath, 'r') as f:\n",
        "        for line in f:\n",
        "            yield line\n",
        "\n",
        "            \n",
        "            \n",
        "metadata = get_metadata()\n",
        "for paper in metadata:\n",
        "    paper_dict = json.loads(paper)\n",
        "    break\n",
        "\n",
        "titles = []\n",
        "abstracts = []\n",
        "authors = []\n",
        "categories = []\n",
        "metadata = get_metadata()\n",
        "for paper in metadata:\n",
        "    paper_dict = json.loads(paper)\n",
        "    ref = paper_dict.get('journal-ref')\n",
        "    try:\n",
        "        year = int(ref[-4:]) \n",
        "        if 2000 < year < 2022:\n",
        "            titles.append(paper_dict.get('title'))\n",
        "            abstracts.append(paper_dict.get('abstract'))\n",
        "            authors.append(paper_dict.get('authors_parsed'))\n",
        "            categories.append(paper_dict.get('categories'))\n",
        "    except:\n",
        "        pass \n",
        "\n",
        "arxiv_df = pd.DataFrame({\n",
        "    'title': titles,\n",
        "    'abstract': abstracts,\n",
        "    'authors': authors,\n",
        "    'categories': categories\n",
        "})\n",
        "arxiv_df.head()"
      ],
      "metadata": {
        "colab": {
          "base_uri": "https://localhost:8080/",
          "height": 204
        },
        "id": "9byzcKJoIbFR",
        "outputId": "65778922-c27e-43cc-bd28-f4179e0965c9"
      },
      "execution_count": null,
      "outputs": [
        {
          "output_type": "execute_result",
          "data": {
            "text/plain": [
              "                                               title  \\\n",
              "0  Calculation of prompt diphoton production cros...   \n",
              "1  Polymer Quantum Mechanics and its Continuum Limit   \n",
              "2  The Spitzer c2d Survey of Large, Nearby, Inste...   \n",
              "3  Fermionic superstring loop amplitudes in the p...   \n",
              "4                 Lifetime of doubly charmed baryons   \n",
              "\n",
              "                                            abstract  \\\n",
              "0    A fully differential calculation in perturba...   \n",
              "1    A rather non-standard quantum representation...   \n",
              "2    We discuss the results from the combined IRA...   \n",
              "3    The pure spinor formulation of the ten-dimen...   \n",
              "4    In this work, we evaluate the lifetimes of t...   \n",
              "\n",
              "                                             authors categories  \n",
              "0  [[Balázs, C., ], [Berger, E. L., ], [Nadolsky,...     hep-ph  \n",
              "1  [[Corichi, Alejandro, ], [Vukasinac, Tatjana, ...      gr-qc  \n",
              "2  [[Harvey, Paul, ], [Merin, Bruno, ], [Huard, T...   astro-ph  \n",
              "3                             [[Stahn, Christian, ]]     hep-th  \n",
              "4  [[Chang, Chao-Hsi, ], [Li, Tong, ], [Li, Xue-Q...     hep-ph  "
            ],
            "text/html": [
              "\n",
              "  <div id=\"df-f809210b-f689-44b7-830b-bf2dafc85bae\">\n",
              "    <div class=\"colab-df-container\">\n",
              "      <div>\n",
              "<style scoped>\n",
              "    .dataframe tbody tr th:only-of-type {\n",
              "        vertical-align: middle;\n",
              "    }\n",
              "\n",
              "    .dataframe tbody tr th {\n",
              "        vertical-align: top;\n",
              "    }\n",
              "\n",
              "    .dataframe thead th {\n",
              "        text-align: right;\n",
              "    }\n",
              "</style>\n",
              "<table border=\"1\" class=\"dataframe\">\n",
              "  <thead>\n",
              "    <tr style=\"text-align: right;\">\n",
              "      <th></th>\n",
              "      <th>title</th>\n",
              "      <th>abstract</th>\n",
              "      <th>authors</th>\n",
              "      <th>categories</th>\n",
              "    </tr>\n",
              "  </thead>\n",
              "  <tbody>\n",
              "    <tr>\n",
              "      <th>0</th>\n",
              "      <td>Calculation of prompt diphoton production cros...</td>\n",
              "      <td>A fully differential calculation in perturba...</td>\n",
              "      <td>[[Balázs, C., ], [Berger, E. L., ], [Nadolsky,...</td>\n",
              "      <td>hep-ph</td>\n",
              "    </tr>\n",
              "    <tr>\n",
              "      <th>1</th>\n",
              "      <td>Polymer Quantum Mechanics and its Continuum Limit</td>\n",
              "      <td>A rather non-standard quantum representation...</td>\n",
              "      <td>[[Corichi, Alejandro, ], [Vukasinac, Tatjana, ...</td>\n",
              "      <td>gr-qc</td>\n",
              "    </tr>\n",
              "    <tr>\n",
              "      <th>2</th>\n",
              "      <td>The Spitzer c2d Survey of Large, Nearby, Inste...</td>\n",
              "      <td>We discuss the results from the combined IRA...</td>\n",
              "      <td>[[Harvey, Paul, ], [Merin, Bruno, ], [Huard, T...</td>\n",
              "      <td>astro-ph</td>\n",
              "    </tr>\n",
              "    <tr>\n",
              "      <th>3</th>\n",
              "      <td>Fermionic superstring loop amplitudes in the p...</td>\n",
              "      <td>The pure spinor formulation of the ten-dimen...</td>\n",
              "      <td>[[Stahn, Christian, ]]</td>\n",
              "      <td>hep-th</td>\n",
              "    </tr>\n",
              "    <tr>\n",
              "      <th>4</th>\n",
              "      <td>Lifetime of doubly charmed baryons</td>\n",
              "      <td>In this work, we evaluate the lifetimes of t...</td>\n",
              "      <td>[[Chang, Chao-Hsi, ], [Li, Tong, ], [Li, Xue-Q...</td>\n",
              "      <td>hep-ph</td>\n",
              "    </tr>\n",
              "  </tbody>\n",
              "</table>\n",
              "</div>\n",
              "      <button class=\"colab-df-convert\" onclick=\"convertToInteractive('df-f809210b-f689-44b7-830b-bf2dafc85bae')\"\n",
              "              title=\"Convert this dataframe to an interactive table.\"\n",
              "              style=\"display:none;\">\n",
              "        \n",
              "  <svg xmlns=\"http://www.w3.org/2000/svg\" height=\"24px\"viewBox=\"0 0 24 24\"\n",
              "       width=\"24px\">\n",
              "    <path d=\"M0 0h24v24H0V0z\" fill=\"none\"/>\n",
              "    <path d=\"M18.56 5.44l.94 2.06.94-2.06 2.06-.94-2.06-.94-.94-2.06-.94 2.06-2.06.94zm-11 1L8.5 8.5l.94-2.06 2.06-.94-2.06-.94L8.5 2.5l-.94 2.06-2.06.94zm10 10l.94 2.06.94-2.06 2.06-.94-2.06-.94-.94-2.06-.94 2.06-2.06.94z\"/><path d=\"M17.41 7.96l-1.37-1.37c-.4-.4-.92-.59-1.43-.59-.52 0-1.04.2-1.43.59L10.3 9.45l-7.72 7.72c-.78.78-.78 2.05 0 2.83L4 21.41c.39.39.9.59 1.41.59.51 0 1.02-.2 1.41-.59l7.78-7.78 2.81-2.81c.8-.78.8-2.07 0-2.86zM5.41 20L4 18.59l7.72-7.72 1.47 1.35L5.41 20z\"/>\n",
              "  </svg>\n",
              "      </button>\n",
              "      \n",
              "  <style>\n",
              "    .colab-df-container {\n",
              "      display:flex;\n",
              "      flex-wrap:wrap;\n",
              "      gap: 12px;\n",
              "    }\n",
              "\n",
              "    .colab-df-convert {\n",
              "      background-color: #E8F0FE;\n",
              "      border: none;\n",
              "      border-radius: 50%;\n",
              "      cursor: pointer;\n",
              "      display: none;\n",
              "      fill: #1967D2;\n",
              "      height: 32px;\n",
              "      padding: 0 0 0 0;\n",
              "      width: 32px;\n",
              "    }\n",
              "\n",
              "    .colab-df-convert:hover {\n",
              "      background-color: #E2EBFA;\n",
              "      box-shadow: 0px 1px 2px rgba(60, 64, 67, 0.3), 0px 1px 3px 1px rgba(60, 64, 67, 0.15);\n",
              "      fill: #174EA6;\n",
              "    }\n",
              "\n",
              "    [theme=dark] .colab-df-convert {\n",
              "      background-color: #3B4455;\n",
              "      fill: #D2E3FC;\n",
              "    }\n",
              "\n",
              "    [theme=dark] .colab-df-convert:hover {\n",
              "      background-color: #434B5C;\n",
              "      box-shadow: 0px 1px 3px 1px rgba(0, 0, 0, 0.15);\n",
              "      filter: drop-shadow(0px 1px 2px rgba(0, 0, 0, 0.3));\n",
              "      fill: #FFFFFF;\n",
              "    }\n",
              "  </style>\n",
              "\n",
              "      <script>\n",
              "        const buttonEl =\n",
              "          document.querySelector('#df-f809210b-f689-44b7-830b-bf2dafc85bae button.colab-df-convert');\n",
              "        buttonEl.style.display =\n",
              "          google.colab.kernel.accessAllowed ? 'block' : 'none';\n",
              "\n",
              "        async function convertToInteractive(key) {\n",
              "          const element = document.querySelector('#df-f809210b-f689-44b7-830b-bf2dafc85bae');\n",
              "          const dataTable =\n",
              "            await google.colab.kernel.invokeFunction('convertToInteractive',\n",
              "                                                     [key], {});\n",
              "          if (!dataTable) return;\n",
              "\n",
              "          const docLinkHtml = 'Like what you see? Visit the ' +\n",
              "            '<a target=\"_blank\" href=https://colab.research.google.com/notebooks/data_table.ipynb>data table notebook</a>'\n",
              "            + ' to learn more about interactive tables.';\n",
              "          element.innerHTML = '';\n",
              "          dataTable['output_type'] = 'display_data';\n",
              "          await google.colab.output.renderOutput(dataTable, element);\n",
              "          const docLink = document.createElement('div');\n",
              "          docLink.innerHTML = docLinkHtml;\n",
              "          element.appendChild(docLink);\n",
              "        }\n",
              "      </script>\n",
              "    </div>\n",
              "  </div>\n",
              "  "
            ]
          },
          "metadata": {},
          "execution_count": 8
        }
      ]
    },
    {
      "cell_type": "markdown",
      "source": [
        "## Data Cleaning\n",
        "*Cleaning the authors:* transforming all author to the following schema: [Last Name] [First Initial].\n",
        "\n",
        "*Cleaning the categories:* transforming all categories into their broader category: ['computer_science', 'economics', 'electrical_engineering_systems_science', 'math', 'physics', 'biology', 'finance', 'statistics']\n",
        "\n",
        "<br>\n",
        "\n",
        "Note: some authors in the dataset aren't people (e.g companies or institutions) and some author names also have affiliations attached to them (e.g. **FIND EXAMPLE**). These are not uniform, so we were unable to find an efficient way to clean these authors."
      ],
      "metadata": {
        "id": "H8xsXYvhOJGp"
      }
    },
    {
      "cell_type": "code",
      "source": [
        "def clean_author(l):\n",
        "    # l contains last, first, middle name as values\n",
        "    if len(l[1]) > 0:\n",
        "        l[1] = l[1][0] + \".\"\n",
        "    if len(l[2]) > 0:\n",
        "        l[2] = l[2][0] + \".\"\n",
        "    return re.sub(' +', ' ', \" \".join(l).replace('\\n', '').strip())\n",
        "\n",
        "arxiv_df['authors_cleaned'] = arxiv_df['authors'].apply(lambda x: [clean_author(x[i]) for i in range(len(x))])"
      ],
      "metadata": {
        "id": "Y-x6zhFRLmze"
      },
      "execution_count": null,
      "outputs": []
    },
    {
      "cell_type": "code",
      "source": [
        "def clean_label(label):\n",
        "    cats = label.split(' ')\n",
        "    cat_set = list()\n",
        "\n",
        "    for x in cats:\n",
        "        start = x[:2]\n",
        "        if start == 'cs':\n",
        "            cat_set.append('computer_science')\n",
        "        elif start == 'ec':\n",
        "            cat_set.append('economics')\n",
        "        elif start == 'ee':\n",
        "            cat_set.append('electrical_engineering_systems_science')\n",
        "        elif start == 'ma':\n",
        "            if x[4] == '.':\n",
        "                cat_set.append('math')\n",
        "            elif x[4] == '-':\n",
        "                cat_set.append('physics')\n",
        "        elif start in {'as', 'co', 'gr', 'he', 'nl', 'nu', 'ph', 'qu'}:\n",
        "            cat_set.append('physics')\n",
        "        elif start == 'q-':\n",
        "            if x[2] == 'b':\n",
        "                cat_set.append('biology')\n",
        "            elif x[2] == 'f':\n",
        "                cat_set.append('finance')\n",
        "        elif start == 'st':\n",
        "            cat_set.append('statistics')\n",
        "    cat_str = cat_set[0]\n",
        "    return cat_str"
      ],
      "metadata": {
        "id": "8kxHwlkmOLcG"
      },
      "execution_count": null,
      "outputs": []
    },
    {
      "cell_type": "code",
      "source": [
        "arxiv_df['clean_categories'] = arxiv_df['categories'].apply(clean_label)"
      ],
      "metadata": {
        "id": "hsy3ZzBHP4X2"
      },
      "execution_count": null,
      "outputs": []
    },
    {
      "cell_type": "markdown",
      "source": [
        "## Graphs and Centrality Analysis\n",
        "For each category, the top authors were determined by a sum of two normalized scores: number of publications, and degree centrality. \n",
        "\n",
        "Number of publications was calculated through dataframe manipulation. Degree centrality was calculated by first generating a graph in which authors are nodes and an edge between two authors represents coauthorship (i.e. these authors have published a paper together), then calculating the number of incident edges for each node.\n",
        "\n",
        "The scores were then z-score normalized and summed to calculate an overall score for each author. The top 10 authors for each category were then obtained by sorting by overall score."
      ],
      "metadata": {
        "id": "CKLtnoycTbtC"
      }
    },
    {
      "cell_type": "code",
      "source": [
        "def get_df_by_cat(input_df, category):\n",
        "    df = input_df[input_df['clean_categories'].str.contains(category)]\n",
        "    return df\n",
        "\n",
        "def gen_network(input_df, category):\n",
        "    df = input_df.copy()\n",
        "    df['author_pairs'] = df['authors_cleaned'].apply(lambda x: list(combinations(x, 2)))\n",
        "    df = df[df['author_pairs'].map(len) > 0]\n",
        "\n",
        "    author_pairs = df['author_pairs'].tolist()\n",
        "    edge_list = {item for sublist in author_pairs for item in sublist}\n",
        "\n",
        "    G = nx.Graph()\n",
        "    G.add_edges_from(edge_list)\n",
        "\n",
        "    return df, G"
      ],
      "metadata": {
        "id": "hOmCOigKZEfH"
      },
      "execution_count": null,
      "outputs": []
    },
    {
      "cell_type": "code",
      "source": [
        "all_categories = ['computer_science', 'economics', 'electrical_engineering_systems_science', 'math', 'physics', 'biology', 'finance', 'statistics']"
      ],
      "metadata": {
        "id": "tQJlzbVo6fSa"
      },
      "execution_count": null,
      "outputs": []
    },
    {
      "cell_type": "code",
      "source": [
        "# TO-DO: do the below analysis for the top n authors in each category\n",
        "n = 10 # number of top authors to display results for\n",
        "df_by_cat = {}\n",
        "\n",
        "for cat in all_categories:\n",
        "    category_df = get_df_by_cat(arxiv_df, cat)\n",
        "    flattened_authors = [x for y in category_df['authors_cleaned'].tolist() for x in y]\n",
        "    published_in_cat = pd.DataFrame(flattened_authors, columns=['authors_cleaned']).value_counts().reset_index().rename(columns={0: 'publishings'})\n",
        "    published_in_cat['scaled_publishings'] = (published_in_cat['publishings'] - published_in_cat['publishings'].mean()) / published_in_cat['publishings'].std()\n",
        "\n",
        "    # generate network\n",
        "    _, G = gen_network(category_df, cat)\n",
        "\n",
        "    deg_centrality = nx.degree_centrality(G)\n",
        "    deg_centrality = {k: round(v * (len(deg_centrality)-1)) for k, v in deg_centrality.items()}  # put back on normal range\n",
        "    deg_centrality = pd.DataFrame(deg_centrality.items(), columns=['authors_cleaned', 'degree_centrality'])\n",
        "\n",
        "    mu = deg_centrality['degree_centrality'].mean()\n",
        "    sigma = deg_centrality['degree_centrality'].std()\n",
        "    deg_centrality['degree_centrality_scaled'] = deg_centrality['degree_centrality'].apply(lambda x: (x - mu) / sigma)\n",
        "\n",
        "    final_author_analysis = deg_centrality.merge(published_in_cat, on='authors_cleaned')\n",
        "    final_author_analysis = final_author_analysis.rename(columns={'authors_cleaned': 'author'})\n",
        "    final_author_analysis['score'] = final_author_analysis['degree_centrality_scaled'] + final_author_analysis['scaled_publishings']\n",
        "    \n",
        "    # Plot the distribution of the top n scoring Authors\n",
        "    top_n_authors = final_author_analysis.sort_values(by='score', ascending=False).iloc[:n]\n",
        "    df_by_cat[cat] = top_n_authors"
      ],
      "metadata": {
        "id": "FP1W5GIV6ESi"
      },
      "execution_count": null,
      "outputs": []
    },
    {
      "cell_type": "markdown",
      "source": [
        "## Visualization of Top Authors for Each Category\n",
        "\n",
        "It's important to note that the network analysis is contained within each category. However, comparison of scores between categories can reveal how \"distinguished\" that category's top authors are compared to their average authors.\n",
        "\n",
        "For instance, the normalized scores for the computer science category are very high overall compared to some other categories like economics or finance, which means that the top authors in computer science have many more coauthorships and publications compared to the average author."
      ],
      "metadata": {
        "id": "Bhv30ZGIKRjN"
      }
    },
    {
      "cell_type": "code",
      "source": [
        "# Plot the distribution of the top n scoring Authors\n",
        "ncols = 4\n",
        "nrows = math.ceil(len(all_categories) / ncols)\n",
        "fig = plt.figure(figsize=(20, 10))\n",
        "ymax = max([df_by_cat[cat]['score'].max() for cat in all_categories]) + 5 # upper limit of ylim in all plots\n",
        "\n",
        "for i in range(len(all_categories)):\n",
        "    cat = all_categories[i]\n",
        "    ax = fig.add_subplot(nrows, ncols, i + 1)\n",
        "\n",
        "    df_by_cat[cat][['author', 'degree_centrality_scaled', 'scaled_publishings', 'score']].plot(ax=ax, kind='bar', x='author', stacked=False)\n",
        "    ax.set_ylabel('Score')\n",
        "    ax.set_ylim([0, ymax])\n",
        "    ax.set_title(cat)\n",
        "    ax.xaxis.label.set_visible(False)\n",
        "\n",
        "plt.suptitle(f'Score of Top {n} Authors in Each Category')\n",
        "plt.subplots_adjust(left=0.1,\n",
        "                    bottom=0.1,\n",
        "                    right=0.85,\n",
        "                    top=0.9,\n",
        "                    wspace=0.2,\n",
        "                    hspace=0.5)\n",
        "plt.show()"
      ],
      "metadata": {
        "colab": {
          "base_uri": "https://localhost:8080/",
          "height": 770
        },
        "id": "fxXrSLog9xWQ",
        "outputId": "719ece6d-7793-416f-dd26-dd9e6355809a"
      },
      "execution_count": null,
      "outputs": [
        {
          "output_type": "display_data",
          "data": {
            "text/plain": [
              "<Figure size 1440x720 with 8 Axes>"
            ],
            "image/png": "[encoded data removed]"
          },
          "metadata": {
            "needs_background": "light"
          }
        }
      ]
    },
    {
      "cell_type": "markdown",
      "source": [
        "# NLP Modeling Based on NLP Category Classification\n",
        "\n",
        "---"
      ],
      "metadata": {
        "id": "VaYYMkkLc9Sr"
      }
    },
    {
      "cell_type": "markdown",
      "source": [
        "## Preprocessing:\n",
        "### For our model we will be starting off with the preprocessed data we had for our centrality analysis. In our case, we do not need to consider any other features in the data except the cleaned_categories (renamed to categories), and the abstract. Based on what is written in the abstract, we will build a model that has the capacity to determine which category this abstract should fall under."
      ],
      "metadata": {
        "id": "usbYdU8KFQuh"
      }
    },
    {
      "cell_type": "code",
      "source": [
        "arxiv_clean_df = arxiv_df.drop(columns = ['authors'])\n",
        "arxiv_clean_df = arxiv_clean_df.rename(columns = {'authors_cleaned': 'authors'})\n",
        "arxiv_clean_df = arxiv_clean_df.drop(columns = ['authors'])\n",
        "target = arxiv_clean_df[['clean_categories']]\n",
        "data = arxiv_clean_df.drop('categories', axis = 1)\n",
        "data = data.drop('clean_categories', axis = 1)\n",
        "data = data.drop('title', axis = 1)"
      ],
      "metadata": {
        "id": "p8uqWrIEVpe4"
      },
      "execution_count": null,
      "outputs": []
    },
    {
      "cell_type": "markdown",
      "source": [
        "### From here, our features will simply be the list of abstracts, and our targets will be the list of our categories, but encoded in order to pass these labels into a Neural Network.\n",
        "\n",
        "##EDIT: We had realized using a confusion matrix that our dataset had a very large majority of 6 (Physics). This was making our model not learn anything but falsely gave us a very high test accuracy (94%). Therefore, we decided to over-sample every other class but the majority (6), to combat the class imbalance. Using this we were able to improve upon our model after testing "
      ],
      "metadata": {
        "id": "QcHFYMJNF9m2"
      }
    },
    {
      "cell_type": "code",
      "source": [
        "import numpy as np\n",
        "from sklearn import preprocessing\n",
        "from imblearn.over_sampling import RandomOverSampler\n",
        "data_map = data[['abstract']]\n",
        "target_map = target['clean_categories']\n",
        "le = preprocessing.LabelEncoder()\n",
        "targets = le.fit_transform(target_map)\n",
        "rus = RandomOverSampler(random_state= 42, sampling_strategy='not majority')\n",
        "data_rus, target_rus = rus.fit_resample(data_map, targets)"
      ],
      "metadata": {
        "id": "DO7qCh5pC8kL"
      },
      "execution_count": null,
      "outputs": []
    },
    {
      "cell_type": "code",
      "source": [
        "data_rus = np.array(data_rus['abstract'])"
      ],
      "metadata": {
        "id": "dcVXAAwZOFGd"
      },
      "execution_count": null,
      "outputs": []
    },
    {
      "cell_type": "markdown",
      "source": [
        "### As shown below, we have 8 unique categories an abstract can fall under, and therefore the encodings range from numbers [0,7]."
      ],
      "metadata": {
        "id": "JSyDUT-yGRfU"
      }
    },
    {
      "cell_type": "code",
      "source": [
        "le.classes_"
      ],
      "metadata": {
        "id": "wABOpaWxZALg",
        "colab": {
          "base_uri": "https://localhost:8080/"
        },
        "outputId": "25cfa9d9-d83b-42e6-e5e8-a7c3fc6b3d4c"
      },
      "execution_count": null,
      "outputs": [
        {
          "output_type": "execute_result",
          "data": {
            "text/plain": [
              "array(['biology', 'computer_science', 'economics',\n",
              "       'electrical_engineering_systems_science', 'finance', 'math',\n",
              "       'physics', 'statistics'], dtype=object)"
            ]
          },
          "metadata": {},
          "execution_count": 163
        }
      ]
    },
    {
      "cell_type": "markdown",
      "source": [
        "### To create a dataset that combines both the features and targets into a format suitable for PyTorch datasets, we appended the features and targets into a list of tuples (a,b) where **a** is the category that the abstract **b** is assigned to:"
      ],
      "metadata": {
        "id": "sQbk5TnfGhU-"
      }
    },
    {
      "cell_type": "code",
      "source": [
        "dataset = []\n",
        "for i in range(len(data_rus)):\n",
        "  dataset.append((target_rus[i], data_rus[i]))"
      ],
      "metadata": {
        "id": "Ti8G965fDICd"
      },
      "execution_count": null,
      "outputs": []
    },
    {
      "cell_type": "markdown",
      "source": [
        "## Model Implementation\n",
        "### From here we begin creating our Neural Network. The general idea is to tokenize the key words in each abstract and use an embedding bag to create a vector representation of a set of words. Given that individual words have various meanings, we need to consider the context behind these words to effectively categorize. Therefore, an embedding bag allows us to represent those sets of words as a vector, to ensure that the context of a phrase or word is not lost.\n",
        "### These embedding bag vectors would then be passed through a linear model to provide a prediction of the abstract's categories. When training, it will go through the abstract in batches, rather than all at once, allowing us to run this model without the need for GPU. "
      ],
      "metadata": {
        "id": "-wPGlTsVG9be"
      }
    },
    {
      "cell_type": "code",
      "source": [
        "import torch\n",
        "device = torch.device(\"cpu\")"
      ],
      "metadata": {
        "id": "fu9j2yYYEghm"
      },
      "execution_count": null,
      "outputs": []
    },
    {
      "cell_type": "markdown",
      "source": [
        "#### We define our text and label pipelines by first tokenizing our abstract data, then passing the tokenized text into our iterator that returns words that are classified as 'basic_english'. Any words that are not within what is defined as 'basic english' are replaced with the 'unknown' keyword"
      ],
      "metadata": {
        "id": "6BC4PnY-I-HW"
      }
    },
    {
      "cell_type": "code",
      "source": [
        "import nltk\n",
        "from torchtext.data.utils import get_tokenizer\n",
        "from torchtext.vocab import build_vocab_from_iterator\n",
        "from nltk.corpus import stopwords\n",
        "\n",
        "nltk.download('stopwords')\n",
        "tokenizer = get_tokenizer('basic_english')\n",
        "train_iter = iter(dataset)\n",
        "stop_words = set(stopwords.words(\"english\"))\n",
        "\n",
        "def yield_tokens(data_iter):\n",
        "    for _, text in data_iter:\n",
        "        tokens = tokenizer(text)\n",
        "        new_tokens = []\n",
        "        for t in tokens:\n",
        "          if t in stop_words:\n",
        "            continue\n",
        "          else:\n",
        "            new_tokens.append(t)\n",
        "        yield new_tokens\n",
        "\n",
        "vocab = build_vocab_from_iterator(yield_tokens(train_iter), specials=[\"<unk>\"])\n",
        "vocab.set_default_index(vocab[\"<unk>\"])\n",
        "\n",
        "text_pipeline = lambda x: vocab(tokenizer(x))\n",
        "label_pipeline = lambda x: int(x)"
      ],
      "metadata": {
        "id": "n_e_AFzfDFLe",
        "colab": {
          "base_uri": "https://localhost:8080/"
        },
        "outputId": "6343e32c-23ef-47e3-ae0d-d492ff180573"
      },
      "execution_count": null,
      "outputs": [
        {
          "output_type": "stream",
          "name": "stderr",
          "text": [
            "[nltk_data] Downloading package stopwords to /root/nltk_data...\n",
            "[nltk_data]   Package stopwords is already up-to-date!\n"
          ]
        }
      ]
    },
    {
      "cell_type": "markdown",
      "source": [
        "#### The pipelines created above will later be used to create DataLoader for both the Training and Testing split. This dataloader will be processing the data in batches, which is where the function collate_batch comes into play. This function is meant to create a tensor based on the pipelines established above. A list of label tensors, text tensors, and offset tensors are created to predict and train with Cross Entropy Loss."
      ],
      "metadata": {
        "id": "poNR4r-uTnXi"
      }
    },
    {
      "cell_type": "code",
      "source": [
        "from torch.utils.data import DataLoader\n",
        "\n",
        "def collate_batch(batch):\n",
        "    label_list, text_list, offsets = [], [], [0]\n",
        "    for (_label, _text) in batch:\n",
        "         label_list.append(label_pipeline(_label))\n",
        "         processed_text = torch.tensor(text_pipeline(_text), dtype=torch.int64)\n",
        "         text_list.append(processed_text)\n",
        "         offsets.append(processed_text.size(0))\n",
        "    label_list = torch.tensor(label_list, dtype=torch.int64)\n",
        "    offsets = torch.tensor(offsets[:-1]).cumsum(dim=0)\n",
        "    text_list = torch.cat(text_list)\n",
        "    return label_list.to(device), text_list.to(device), offsets.to(device)\n"
      ],
      "metadata": {
        "id": "SZWq3RVBBlGs"
      },
      "execution_count": null,
      "outputs": []
    },
    {
      "cell_type": "markdown",
      "source": [
        "#### From here is where the actual Model is designed. The components of the model is an EmbeddingBag to create vectorized sets of text from the abstract, a linear model taking the embedded data and the features, and a function to initialize embedding and linear weights to a value between [-0.5, 0.5]. Forward Pass is simply the embedding of the abstract, with the linear model called right after on the embeddings."
      ],
      "metadata": {
        "id": "L1kzunF2soF_"
      }
    },
    {
      "cell_type": "code",
      "source": [
        "from torch import nn\n",
        "\n",
        "class TextClassificationModel(nn.Module):\n",
        "\n",
        "    def __init__(self, vocab_size, embed_dim, num_class):\n",
        "        super(TextClassificationModel, self).__init__()\n",
        "        self.embedding = nn.EmbeddingBag(vocab_size, embed_dim, sparse=True)\n",
        "        self.fc = nn.Linear(embed_dim, num_class)\n",
        "        self.init_weights()\n",
        "\n",
        "    def init_weights(self):\n",
        "        initrange = 0.5\n",
        "        self.embedding.weight.data.uniform_(-initrange, initrange)\n",
        "        self.fc.weight.data.uniform_(-initrange, initrange)\n",
        "        self.fc.bias.data.zero_()\n",
        "\n",
        "    def forward(self, text, offsets):\n",
        "        embedded = self.embedding(text, offsets)\n",
        "        return self.fc(embedded)"
      ],
      "metadata": {
        "id": "lPlXgyU1YcAu"
      },
      "execution_count": null,
      "outputs": []
    },
    {
      "cell_type": "markdown",
      "source": [
        "#### To train our model, we have implemented a train function where for each set of label, text, and offsets, we get a predicted label based on our current model, and determine the loss based on Cross Entropy.\n",
        "#### From there we use this loss to perform backwards propogation on our model to adjust the weights. During this process we also keep count of the total number of correct predictions to determine the accuracy of model for the number of batches done so far. This continues until all batches are trained on.\n",
        "#### In this block we also create a function to evaluate the accuracy of a model without training the model as well. This will end up being useful when determining the accuracy of the testing data. Essentially the model predicts the categories of the test abstracts and counts the number of correct predictions out of the total predictions."
      ],
      "metadata": {
        "id": "GrC4Gr2TtVP9"
      }
    },
    {
      "cell_type": "code",
      "source": [
        "import time\n",
        "\n",
        "def train(dataloader):\n",
        "    model.train()\n",
        "    total_acc, total_count = 0, 0\n",
        "    log_interval = 500\n",
        "    start_time = time.time()\n",
        "\n",
        "    for idx, (label, text, offsets) in enumerate(dataloader):\n",
        "        optimizer.zero_grad()\n",
        "        predicted_label = model(text, offsets)\n",
        "        loss = criterion(predicted_label, label)\n",
        "        loss.backward()\n",
        "        torch.nn.utils.clip_grad_norm_(model.parameters(), 0.1)\n",
        "        optimizer.step()\n",
        "        total_acc += (predicted_label.argmax(1) == label).sum().item()\n",
        "        total_count += label.size(0)\n",
        "        if idx % log_interval == 0 and idx > 0:\n",
        "            elapsed = time.time() - start_time\n",
        "            print('| epoch {:3d} | {:5d}/{:5d} batches '\n",
        "                  '| accuracy {:8.3f}'.format(epoch, idx, len(dataloader),\n",
        "                                              total_acc/total_count))\n",
        "            total_acc, total_count = 0, 0\n",
        "            start_time = time.time()\n",
        "\n",
        "def evaluate(dataloader):\n",
        "    model.eval()\n",
        "    total_acc, total_count = 0, 0\n",
        "\n",
        "    with torch.no_grad():\n",
        "        for idx, (label, text, offsets) in enumerate(dataloader):\n",
        "            predicted_label = model(text, offsets)\n",
        "            loss = criterion(predicted_label, label)\n",
        "            total_acc += (predicted_label.argmax(1) == label).sum().item()\n",
        "            total_count += label.size(0)\n",
        "    return total_acc/total_count"
      ],
      "metadata": {
        "id": "k9geNo8KB0ZN"
      },
      "execution_count": null,
      "outputs": []
    },
    {
      "cell_type": "markdown",
      "source": [
        "## Running our Model\n",
        "### Finally, we begin to run our model with the dataset we had created earlier. We set up inital parameters such as the number of classes, the size of our vocabulary that we use, and the size of each embedding bag.\n",
        "### Using these, we initialize our text classification model."
      ],
      "metadata": {
        "id": "pxISUGFIvJoP"
      }
    },
    {
      "cell_type": "code",
      "source": [
        "train_iter = dataset\n",
        "num_class = len(set([label for (label, text) in train_iter]))\n",
        "vocab_size = len(vocab)\n",
        "emsize = 5\n",
        "model = TextClassificationModel(vocab_size, emsize, num_class).to(device)"
      ],
      "metadata": {
        "id": "eLVdKBaQBtyq"
      },
      "execution_count": null,
      "outputs": []
    },
    {
      "cell_type": "markdown",
      "source": [
        "#### We'll be basing the loss on Cross Entropy, the optimizer on Stochastic Gradient Descent, and decaying our learning rate based on step_size with StepLR. \n",
        "#### We split our dataset using random split to get 80% for training and 20% for testing - then create our training and testing dataloaders.\n",
        "#### Finally, we begin training. We train our model in batches, using the train function described above, then determine the test accuracy using the evaluate function. That testing accuracy will be appended to a list to see how the number of iterations through the training data affects the accuracy of the test. At the end of the Epoch, the test accuracy is returned."
      ],
      "metadata": {
        "id": "VjccY7iovrxH"
      }
    },
    {
      "cell_type": "code",
      "source": [
        "from torch.utils.data.dataset import random_split\n",
        "from torchtext.data.functional import to_map_style_dataset\n",
        "# Accuracy History\n",
        "test_acc_hist = []\n",
        "\n",
        "# Hyperparameters\n",
        "EPOCHS = 1 # epoch\n",
        "LR = 5  # learning rate\n",
        "BATCH_SIZE = 32 # batch size for training\n",
        "\n",
        "criterion = torch.nn.CrossEntropyLoss()\n",
        "optimizer = torch.optim.SGD(model.parameters(), lr=LR)\n",
        "scheduler = torch.optim.lr_scheduler.StepLR(optimizer, 1.0, gamma=0.1)\n",
        "total_accu = None\n",
        "train_iter = dataset\n",
        "\n",
        "train_dataset = to_map_style_dataset(train_iter)\n",
        "\n",
        "num_train = int(len(train_dataset) * 0.80)\n",
        "split_train_, split_test_ = \\\n",
        "    random_split(train_dataset, [num_train, len(train_dataset) - num_train])\n",
        "\n",
        "train_dataloader = DataLoader(split_train_, batch_size=BATCH_SIZE,\n",
        "                              shuffle=True, collate_fn=collate_batch)\n",
        "test_dataloader = DataLoader(split_test_, batch_size=BATCH_SIZE,\n",
        "                              shuffle=True, collate_fn=collate_batch)\n",
        "\n",
        "for epoch in range(1, EPOCHS + 1):\n",
        "    epoch_start_time = time.time()\n",
        "    train(train_dataloader)\n",
        "    accu_val = evaluate(test_dataloader)\n",
        "    test_acc_hist.append(accu_val)\n",
        "    if total_accu is not None and total_accu > accu_val:\n",
        "      scheduler.step()\n",
        "    else:\n",
        "       total_accu = accu_val\n",
        "    print('-' * 59)\n",
        "    print('| end of epoch {:3d} | time: {:5.2f}s | '\n",
        "          'test accuracy {:8.3f} '.format(epoch,\n",
        "                                           time.time() - epoch_start_time,\n",
        "                                           accu_val))\n",
        "    print('-' * 59)"
      ],
      "metadata": {
        "id": "wB356UKtB4A-",
        "colab": {
          "base_uri": "https://localhost:8080/"
        },
        "outputId": "84e78a3c-a570-495d-b81d-3adab16f8933"
      },
      "execution_count": null,
      "outputs": [
        {
          "output_type": "stream",
          "name": "stdout",
          "text": [
            "| epoch   1 |   500/23447 batches | accuracy    0.853\n",
            "| epoch   1 |  1000/23447 batches | accuracy    0.862\n",
            "| epoch   1 |  1500/23447 batches | accuracy    0.848\n",
            "| epoch   1 |  2000/23447 batches | accuracy    0.859\n",
            "| epoch   1 |  2500/23447 batches | accuracy    0.868\n",
            "| epoch   1 |  3000/23447 batches | accuracy    0.866\n",
            "| epoch   1 |  3500/23447 batches | accuracy    0.865\n",
            "| epoch   1 |  4000/23447 batches | accuracy    0.850\n",
            "| epoch   1 |  4500/23447 batches | accuracy    0.866\n",
            "| epoch   1 |  5000/23447 batches | accuracy    0.859\n",
            "| epoch   1 |  5500/23447 batches | accuracy    0.869\n",
            "| epoch   1 |  6000/23447 batches | accuracy    0.870\n",
            "| epoch   1 |  6500/23447 batches | accuracy    0.867\n",
            "| epoch   1 |  7000/23447 batches | accuracy    0.870\n",
            "| epoch   1 |  7500/23447 batches | accuracy    0.868\n",
            "| epoch   1 |  8000/23447 batches | accuracy    0.876\n",
            "| epoch   1 |  8500/23447 batches | accuracy    0.862\n",
            "| epoch   1 |  9000/23447 batches | accuracy    0.881\n",
            "| epoch   1 |  9500/23447 batches | accuracy    0.884\n",
            "| epoch   1 | 10000/23447 batches | accuracy    0.855\n",
            "| epoch   1 | 10500/23447 batches | accuracy    0.879\n",
            "| epoch   1 | 11000/23447 batches | accuracy    0.875\n",
            "| epoch   1 | 11500/23447 batches | accuracy    0.869\n",
            "| epoch   1 | 12000/23447 batches | accuracy    0.891\n",
            "| epoch   1 | 12500/23447 batches | accuracy    0.884\n",
            "| epoch   1 | 13000/23447 batches | accuracy    0.876\n",
            "| epoch   1 | 13500/23447 batches | accuracy    0.873\n",
            "| epoch   1 | 14000/23447 batches | accuracy    0.887\n",
            "| epoch   1 | 14500/23447 batches | accuracy    0.870\n",
            "| epoch   1 | 15000/23447 batches | accuracy    0.887\n",
            "| epoch   1 | 15500/23447 batches | accuracy    0.874\n",
            "| epoch   1 | 16000/23447 batches | accuracy    0.874\n",
            "| epoch   1 | 16500/23447 batches | accuracy    0.880\n",
            "| epoch   1 | 17000/23447 batches | accuracy    0.899\n",
            "| epoch   1 | 17500/23447 batches | accuracy    0.871\n",
            "| epoch   1 | 18000/23447 batches | accuracy    0.879\n",
            "| epoch   1 | 18500/23447 batches | accuracy    0.891\n",
            "| epoch   1 | 19000/23447 batches | accuracy    0.878\n",
            "| epoch   1 | 19500/23447 batches | accuracy    0.879\n",
            "| epoch   1 | 20000/23447 batches | accuracy    0.889\n",
            "| epoch   1 | 20500/23447 batches | accuracy    0.897\n",
            "| epoch   1 | 21000/23447 batches | accuracy    0.891\n",
            "| epoch   1 | 21500/23447 batches | accuracy    0.890\n",
            "| epoch   1 | 22000/23447 batches | accuracy    0.889\n",
            "| epoch   1 | 22500/23447 batches | accuracy    0.891\n",
            "| epoch   1 | 23000/23447 batches | accuracy    0.896\n",
            "-----------------------------------------------------------\n",
            "| end of epoch   1 | time: 225.67s | test accuracy    0.871 \n",
            "-----------------------------------------------------------\n"
          ]
        }
      ]
    },
    {
      "cell_type": "markdown",
      "source": [
        "## Visualization and Analysis\n",
        "## This portion was before we fixed class imbalance:\n",
        "### Using the test accuracy history and the number of epochs used, we can form of visual representation of the test accuracy as we perform multiple training iterations of the dataset. What we see is that from the beginning, the test accuracy was very high - the highest being 93.7%, and by the end of the 10th epoch, the highest we reached was 94.2%. This high of an accuracy could be due to not enought variation in our test data, and we may need a larger dataset to get a better representation of how well our model can do.\n",
        "\n",
        "### What we do know, however, is that assuming the size of our dataset is reasonable for a Neural Network, we see that by embedding our abstract into sets of words, vectorized, and run through a logistic layer, we can provide an accurate category for an abstract.\n",
        "\n",
        "## After fixing imbalance we were able to train our model using one epoch and get a test accuracy of approx. 87%. If we were to run on multiple epochs, we can expect a slight increase in testing accuracy.\n",
        "\n",
        "## Therefore, we can assume that since we handled class imbalance, our model can provide an effective and accurate way to classify abstracts into a category. \n",
        "\n",
        "### Some assumptions we have in this model is that each abstract falls under only one category, when in reality it is quite likely for an abstract to fall under many categories. Trying to implement the idea of multiple categories with this model results in issues, as it would just consider an abstract with multiple labels as a completely separate classification. "
      ],
      "metadata": {
        "id": "sZYDdmVwzGBS"
      }
    },
    {
      "cell_type": "markdown",
      "source": [
        "## Below is the code for before fixing class imbalance, we visualized our graph and visualized the confusion matrix to see that physics was a very large majority and the cause of the imbalance."
      ],
      "metadata": {
        "id": "7lNetLPYRjkt"
      }
    },
    {
      "cell_type": "code",
      "source": [
        "# Visualization\n",
        "import matplotlib.pyplot as plt\n",
        "plt.figure(1)\n",
        "plt.plot(range(1, EPOCHS + 1), test_acc_hist)\n",
        "plt.xlabel(\"Num of Epochs\")\n",
        "plt.ylabel(\"Test Accuracy\")\n",
        "plt.title(\"Test Accuracy as Epochs Increase\")\n",
        "plt.show()"
      ],
      "metadata": {
        "id": "4qIKM-XKkebO"
      },
      "execution_count": null,
      "outputs": []
    },
    {
      "cell_type": "code",
      "source": [
        "from sklearn.metrics import confusion_matrix as cm"
      ],
      "metadata": {
        "id": "m1NVDeU49p6q"
      },
      "execution_count": null,
      "outputs": []
    },
    {
      "cell_type": "code",
      "source": [
        "y_pred = []\n",
        "y_true = []\n",
        "model.eval()\n",
        "with torch.no_grad():\n",
        "  for idx, (label, text, offsets) in enumerate(test_dataloader):\n",
        "    predicted_label = model(text, offsets)\n",
        "    y_pred.append([i.item() for i in list(predicted_label.argmax(1))])\n",
        "    y_true.append([i.item() for i in list(label)])"
      ],
      "metadata": {
        "id": "wUsrMsYb91Qr"
      },
      "execution_count": null,
      "outputs": []
    },
    {
      "cell_type": "code",
      "source": [
        "yt = [i for sub in y_true for i in sub]\n",
        "yp = [i for sub in y_pred for i in sub]\n",
        "con_mat = cm(yt, yp)\n",
        "sns.heatmap(con_mat, annot= True)"
      ],
      "metadata": {
        "colab": {
          "base_uri": "https://localhost:8080/",
          "height": 282
        },
        "id": "gz7fOW2G_CpM",
        "outputId": "e66a7f8b-e463-4a6d-b221-e252f3e39809"
      },
      "execution_count": null,
      "outputs": [
        {
          "output_type": "execute_result",
          "data": {
            "text/plain": [
              "<matplotlib.axes._subplots.AxesSubplot at 0x7f7b76e69460>"
            ]
          },
          "metadata": {},
          "execution_count": 176
        },
        {
          "output_type": "display_data",
          "data": {
            "text/plain": [
              "<Figure size 432x288 with 2 Axes>"
            ],
            "image/png": "[encoded data removed]"
          },
          "metadata": {
            "needs_background": "light"
          }
        }
      ]
    }
  ]
}